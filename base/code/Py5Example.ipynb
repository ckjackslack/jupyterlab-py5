{
 "cells": [
  {
   "cell_type": "code",
   "execution_count": 2,
   "id": "9be57741-0864-4bad-bc25-c14ff024eaec",
   "metadata": {},
   "outputs": [],
   "source": [
    "def setup():\n",
    "    size(400, 400)\n",
    "    rect_mode(CENTER)\n",
    "\n",
    "def draw():\n",
    "    square(mouse_x, mouse_y, 10)\n",
    "\n",
    "def mouse_clicked():\n",
    "    fill(random_int(255), random_int(255), random_int(255))\n",
    "\n",
    "run_sketch()"
   ]
  }
 ],
 "metadata": {
  "kernelspec": {
   "display_name": "py5",
   "language": "python",
   "name": "py5"
  },
  "language_info": {
   "codemirror_mode": {
    "name": "ipython",
    "version": 3
   },
   "file_extension": ".py",
   "mimetype": "text/x-python",
   "name": "python",
   "nbconvert_exporter": "python",
   "pygments_lexer": "ipython3",
   "version": "3.11.2"
  }
 },
 "nbformat": 4,
 "nbformat_minor": 5
}
